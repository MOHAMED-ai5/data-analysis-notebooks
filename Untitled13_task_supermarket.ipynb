{
  "nbformat": 4,
  "nbformat_minor": 0,
  "metadata": {
    "colab": {
      "provenance": []
    },
    "kernelspec": {
      "name": "python3",
      "display_name": "Python 3"
    },
    "language_info": {
      "name": "python"
    }
  },
  "cells": [
    {
      "cell_type": "code",
      "source": [
        "\n",
        "\n",
        "import pandas as pd\n",
        "import numpy as np\n",
        "import matplotlib.pyplot as plt\n",
        "import seaborn as sns\n",
        "\n",
        "\n",
        "from google.colab import files\n",
        "uploaded = files.upload()\n",
        "\n",
        "\n",
        "df = pd.read_csv(\"supermarket.csv\")\n",
        "\n",
        "\n",
        "print(\"Shape:\", df.shape)\n",
        "print(\"\\nColumns:\", df.columns.tolist())\n",
        "print(\"\\nMissing Values:\\n\", df.isnull().sum())"
      ],
      "metadata": {
        "colab": {
          "base_uri": "https://localhost:8080/",
          "height": 531
        },
        "id": "lBD_tHs4ca03",
        "outputId": "ee46958d-a024-474b-a848-906e4f4c1746"
      },
      "execution_count": 1,
      "outputs": [
        {
          "output_type": "display_data",
          "data": {
            "text/plain": [
              "<IPython.core.display.HTML object>"
            ],
            "text/html": [
              "\n",
              "     <input type=\"file\" id=\"files-06280709-1b37-49f2-bfa0-5684b0d1fb7e\" name=\"files[]\" multiple disabled\n",
              "        style=\"border:none\" />\n",
              "     <output id=\"result-06280709-1b37-49f2-bfa0-5684b0d1fb7e\">\n",
              "      Upload widget is only available when the cell has been executed in the\n",
              "      current browser session. Please rerun this cell to enable.\n",
              "      </output>\n",
              "      <script>// Copyright 2017 Google LLC\n",
              "//\n",
              "// Licensed under the Apache License, Version 2.0 (the \"License\");\n",
              "// you may not use this file except in compliance with the License.\n",
              "// You may obtain a copy of the License at\n",
              "//\n",
              "//      http://www.apache.org/licenses/LICENSE-2.0\n",
              "//\n",
              "// Unless required by applicable law or agreed to in writing, software\n",
              "// distributed under the License is distributed on an \"AS IS\" BASIS,\n",
              "// WITHOUT WARRANTIES OR CONDITIONS OF ANY KIND, either express or implied.\n",
              "// See the License for the specific language governing permissions and\n",
              "// limitations under the License.\n",
              "\n",
              "/**\n",
              " * @fileoverview Helpers for google.colab Python module.\n",
              " */\n",
              "(function(scope) {\n",
              "function span(text, styleAttributes = {}) {\n",
              "  const element = document.createElement('span');\n",
              "  element.textContent = text;\n",
              "  for (const key of Object.keys(styleAttributes)) {\n",
              "    element.style[key] = styleAttributes[key];\n",
              "  }\n",
              "  return element;\n",
              "}\n",
              "\n",
              "// Max number of bytes which will be uploaded at a time.\n",
              "const MAX_PAYLOAD_SIZE = 100 * 1024;\n",
              "\n",
              "function _uploadFiles(inputId, outputId) {\n",
              "  const steps = uploadFilesStep(inputId, outputId);\n",
              "  const outputElement = document.getElementById(outputId);\n",
              "  // Cache steps on the outputElement to make it available for the next call\n",
              "  // to uploadFilesContinue from Python.\n",
              "  outputElement.steps = steps;\n",
              "\n",
              "  return _uploadFilesContinue(outputId);\n",
              "}\n",
              "\n",
              "// This is roughly an async generator (not supported in the browser yet),\n",
              "// where there are multiple asynchronous steps and the Python side is going\n",
              "// to poll for completion of each step.\n",
              "// This uses a Promise to block the python side on completion of each step,\n",
              "// then passes the result of the previous step as the input to the next step.\n",
              "function _uploadFilesContinue(outputId) {\n",
              "  const outputElement = document.getElementById(outputId);\n",
              "  const steps = outputElement.steps;\n",
              "\n",
              "  const next = steps.next(outputElement.lastPromiseValue);\n",
              "  return Promise.resolve(next.value.promise).then((value) => {\n",
              "    // Cache the last promise value to make it available to the next\n",
              "    // step of the generator.\n",
              "    outputElement.lastPromiseValue = value;\n",
              "    return next.value.response;\n",
              "  });\n",
              "}\n",
              "\n",
              "/**\n",
              " * Generator function which is called between each async step of the upload\n",
              " * process.\n",
              " * @param {string} inputId Element ID of the input file picker element.\n",
              " * @param {string} outputId Element ID of the output display.\n",
              " * @return {!Iterable<!Object>} Iterable of next steps.\n",
              " */\n",
              "function* uploadFilesStep(inputId, outputId) {\n",
              "  const inputElement = document.getElementById(inputId);\n",
              "  inputElement.disabled = false;\n",
              "\n",
              "  const outputElement = document.getElementById(outputId);\n",
              "  outputElement.innerHTML = '';\n",
              "\n",
              "  const pickedPromise = new Promise((resolve) => {\n",
              "    inputElement.addEventListener('change', (e) => {\n",
              "      resolve(e.target.files);\n",
              "    });\n",
              "  });\n",
              "\n",
              "  const cancel = document.createElement('button');\n",
              "  inputElement.parentElement.appendChild(cancel);\n",
              "  cancel.textContent = 'Cancel upload';\n",
              "  const cancelPromise = new Promise((resolve) => {\n",
              "    cancel.onclick = () => {\n",
              "      resolve(null);\n",
              "    };\n",
              "  });\n",
              "\n",
              "  // Wait for the user to pick the files.\n",
              "  const files = yield {\n",
              "    promise: Promise.race([pickedPromise, cancelPromise]),\n",
              "    response: {\n",
              "      action: 'starting',\n",
              "    }\n",
              "  };\n",
              "\n",
              "  cancel.remove();\n",
              "\n",
              "  // Disable the input element since further picks are not allowed.\n",
              "  inputElement.disabled = true;\n",
              "\n",
              "  if (!files) {\n",
              "    return {\n",
              "      response: {\n",
              "        action: 'complete',\n",
              "      }\n",
              "    };\n",
              "  }\n",
              "\n",
              "  for (const file of files) {\n",
              "    const li = document.createElement('li');\n",
              "    li.append(span(file.name, {fontWeight: 'bold'}));\n",
              "    li.append(span(\n",
              "        `(${file.type || 'n/a'}) - ${file.size} bytes, ` +\n",
              "        `last modified: ${\n",
              "            file.lastModifiedDate ? file.lastModifiedDate.toLocaleDateString() :\n",
              "                                    'n/a'} - `));\n",
              "    const percent = span('0% done');\n",
              "    li.appendChild(percent);\n",
              "\n",
              "    outputElement.appendChild(li);\n",
              "\n",
              "    const fileDataPromise = new Promise((resolve) => {\n",
              "      const reader = new FileReader();\n",
              "      reader.onload = (e) => {\n",
              "        resolve(e.target.result);\n",
              "      };\n",
              "      reader.readAsArrayBuffer(file);\n",
              "    });\n",
              "    // Wait for the data to be ready.\n",
              "    let fileData = yield {\n",
              "      promise: fileDataPromise,\n",
              "      response: {\n",
              "        action: 'continue',\n",
              "      }\n",
              "    };\n",
              "\n",
              "    // Use a chunked sending to avoid message size limits. See b/62115660.\n",
              "    let position = 0;\n",
              "    do {\n",
              "      const length = Math.min(fileData.byteLength - position, MAX_PAYLOAD_SIZE);\n",
              "      const chunk = new Uint8Array(fileData, position, length);\n",
              "      position += length;\n",
              "\n",
              "      const base64 = btoa(String.fromCharCode.apply(null, chunk));\n",
              "      yield {\n",
              "        response: {\n",
              "          action: 'append',\n",
              "          file: file.name,\n",
              "          data: base64,\n",
              "        },\n",
              "      };\n",
              "\n",
              "      let percentDone = fileData.byteLength === 0 ?\n",
              "          100 :\n",
              "          Math.round((position / fileData.byteLength) * 100);\n",
              "      percent.textContent = `${percentDone}% done`;\n",
              "\n",
              "    } while (position < fileData.byteLength);\n",
              "  }\n",
              "\n",
              "  // All done.\n",
              "  yield {\n",
              "    response: {\n",
              "      action: 'complete',\n",
              "    }\n",
              "  };\n",
              "}\n",
              "\n",
              "scope.google = scope.google || {};\n",
              "scope.google.colab = scope.google.colab || {};\n",
              "scope.google.colab._files = {\n",
              "  _uploadFiles,\n",
              "  _uploadFilesContinue,\n",
              "};\n",
              "})(self);\n",
              "</script> "
            ]
          },
          "metadata": {}
        },
        {
          "output_type": "stream",
          "name": "stdout",
          "text": [
            "Saving supermarket.csv to supermarket.csv\n",
            "Shape: (9800, 18)\n",
            "\n",
            "Columns: ['Row ID', 'Order ID', 'Order Date', 'Ship Date', 'Ship Mode', 'Customer ID', 'Customer Name', 'Segment', 'Country', 'City', 'State', 'Postal Code', 'Region', 'Product ID', 'Category', 'Sub-Category', 'Product Name', 'Sales']\n",
            "\n",
            "Missing Values:\n",
            " Row ID            0\n",
            "Order ID          0\n",
            "Order Date        0\n",
            "Ship Date         0\n",
            "Ship Mode         0\n",
            "Customer ID       0\n",
            "Customer Name     0\n",
            "Segment           0\n",
            "Country           0\n",
            "City              0\n",
            "State             0\n",
            "Postal Code      11\n",
            "Region            0\n",
            "Product ID        0\n",
            "Category          0\n",
            "Sub-Category      0\n",
            "Product Name      0\n",
            "Sales             0\n",
            "dtype: int64\n"
          ]
        }
      ]
    },
    {
      "cell_type": "code",
      "source": [
        "\n",
        "print(df.columns.tolist())\n"
      ],
      "metadata": {
        "colab": {
          "base_uri": "https://localhost:8080/"
        },
        "id": "eVitCiDHeh82",
        "outputId": "dec3640b-ab24-4e1d-c618-0772cfa91792"
      },
      "execution_count": 13,
      "outputs": [
        {
          "output_type": "stream",
          "name": "stdout",
          "text": [
            "['Row ID', 'Order ID', 'Order Date', 'Ship Date', 'Ship Mode', 'Customer ID', 'Customer Name', 'Segment', 'Country', 'City', 'State', 'Postal Code', 'Region', 'Product ID', 'Category', 'Sub-Category', 'Product Name', 'Sales']\n"
          ]
        }
      ]
    },
    {
      "cell_type": "code",
      "source": [
        "\n",
        "if \"Date\" in df.columns:\n",
        "    df[\"Date\"] = pd.to_datetime(df[\"Date\"], errors=\"coerce\")\n",
        "\n",
        "\n",
        "print(\"\\nBasic Stats:\\n\", df.describe(include=\"all\"))\n",
        "\n",
        "\n",
        ""
      ],
      "metadata": {
        "colab": {
          "base_uri": "https://localhost:8080/"
        },
        "id": "UI7fqTFdc7nq",
        "outputId": "86c4e929-9e10-42a5-add7-35423ac62d8d"
      },
      "execution_count": 3,
      "outputs": [
        {
          "output_type": "stream",
          "name": "stdout",
          "text": [
            "\n",
            "Basic Stats:\n",
            "              Row ID        Order ID  Order Date   Ship Date       Ship Mode  \\\n",
            "count   9800.000000            9800        9800        9800            9800   \n",
            "unique          NaN            4922        1230        1326               4   \n",
            "top             NaN  CA-2018-100111  05/09/2017  26/09/2018  Standard Class   \n",
            "freq            NaN              14          38          34            5859   \n",
            "mean    4900.500000             NaN         NaN         NaN             NaN   \n",
            "std     2829.160653             NaN         NaN         NaN             NaN   \n",
            "min        1.000000             NaN         NaN         NaN             NaN   \n",
            "25%     2450.750000             NaN         NaN         NaN             NaN   \n",
            "50%     4900.500000             NaN         NaN         NaN             NaN   \n",
            "75%     7350.250000             NaN         NaN         NaN             NaN   \n",
            "max     9800.000000             NaN         NaN         NaN             NaN   \n",
            "\n",
            "       Customer ID  Customer Name   Segment        Country           City  \\\n",
            "count         9800           9800      9800           9800           9800   \n",
            "unique         793            793         3              1            529   \n",
            "top       WB-21850  William Brown  Consumer  United States  New York City   \n",
            "freq            35             35      5101           9800            891   \n",
            "mean           NaN            NaN       NaN            NaN            NaN   \n",
            "std            NaN            NaN       NaN            NaN            NaN   \n",
            "min            NaN            NaN       NaN            NaN            NaN   \n",
            "25%            NaN            NaN       NaN            NaN            NaN   \n",
            "50%            NaN            NaN       NaN            NaN            NaN   \n",
            "75%            NaN            NaN       NaN            NaN            NaN   \n",
            "max            NaN            NaN       NaN            NaN            NaN   \n",
            "\n",
            "             State   Postal Code Region       Product ID         Category  \\\n",
            "count         9800   9789.000000   9800             9800             9800   \n",
            "unique          49           NaN      4             1861                3   \n",
            "top     California           NaN   West  OFF-PA-10001970  Office Supplies   \n",
            "freq          1946           NaN   3140               19             5909   \n",
            "mean           NaN  55273.322403    NaN              NaN              NaN   \n",
            "std            NaN  32041.223413    NaN              NaN              NaN   \n",
            "min            NaN   1040.000000    NaN              NaN              NaN   \n",
            "25%            NaN  23223.000000    NaN              NaN              NaN   \n",
            "50%            NaN  58103.000000    NaN              NaN              NaN   \n",
            "75%            NaN  90008.000000    NaN              NaN              NaN   \n",
            "max            NaN  99301.000000    NaN              NaN              NaN   \n",
            "\n",
            "       Sub-Category     Product Name         Sales  \n",
            "count          9800             9800   9800.000000  \n",
            "unique           17             1849           NaN  \n",
            "top         Binders  Staple envelope           NaN  \n",
            "freq           1492               47           NaN  \n",
            "mean            NaN              NaN    230.769059  \n",
            "std             NaN              NaN    626.651875  \n",
            "min             NaN              NaN      0.444000  \n",
            "25%             NaN              NaN     17.248000  \n",
            "50%             NaN              NaN     54.490000  \n",
            "75%             NaN              NaN    210.605000  \n",
            "max             NaN              NaN  22638.480000  \n"
          ]
        }
      ]
    },
    {
      "cell_type": "code",
      "source": [
        "plt.figure(figsize=(8,5))\n",
        "plt.hist(df['Sales'], bins=50, color=\"skyblue\", edgecolor=\"black\")\n",
        "plt.title(\"Distribution of Sales\")\n",
        "plt.xlabel(\"Sales\")\n",
        "plt.ylabel(\"Count\")\n",
        "plt.show()"
      ],
      "metadata": {
        "colab": {
          "base_uri": "https://localhost:8080/",
          "height": 487
        },
        "id": "x7c61P10dKxS",
        "outputId": "f13ec71a-1c8d-436e-a928-f70f8f79e8ca"
      },
      "execution_count": 14,
      "outputs": [
        {
          "output_type": "display_data",
          "data": {
            "text/plain": [
              "<Figure size 800x500 with 1 Axes>"
            ],
            "image/png": "[encoded data removed]"
          },
          "metadata": {}
        }
      ]
    },
    {
      "cell_type": "code",
      "source": [
        "if \"Branch\" in df.columns:\n",
        "    plt.figure(figsize=(6,4))\n",
        "    sns.countplot(x=\"Branch\", data=df, palette=\"Set2\")\n",
        "    plt.title(\"Number of Transactions per Branch\")\n",
        "    plt.show()"
      ],
      "metadata": {
        "id": "oz53c4y9dPaG"
      },
      "execution_count": 5,
      "outputs": []
    },
    {
      "cell_type": "code",
      "source": [
        "if \"Customer type\" in df.columns:\n",
        "    plt.figure(figsize=(6,4))\n",
        "    sns.countplot(x=\"Customer type\", data=df, palette=\"pastel\")\n",
        "    plt.title(\"Customer Type Distribution\")\n",
        "    plt.show()\n",
        "\n",
        "if \"Rating\" in df.columns:\n",
        "    plt.figure(figsize=(6,5))\n",
        "    plt.scatter(df[\"Rating\"], df[\"Total\"], alpha=0.6, s=15)\n",
        "    plt.title(\"Sales Total vs Rating\")\n",
        "    plt.xlabel(\"Rating\")\n",
        "    plt.ylabel(\"Total\")\n",
        "    plt.show()"
      ],
      "metadata": {
        "id": "bXvOTMU5dZ1b"
      },
      "execution_count": 6,
      "outputs": []
    },
    {
      "cell_type": "code",
      "source": [
        "\n",
        "plt.figure(figsize=(6,5))\n",
        "sns.heatmap(df.select_dtypes(include=[np.number]).corr(), annot=True, cmap=\"coolwarm\", fmt=\".2f\")\n",
        "plt.title(\"Correlation Matrix (Numeric Features)\")\n",
        "plt.show()\n",
        "\n",
        "\n",
        ""
      ],
      "metadata": {
        "colab": {
          "base_uri": "https://localhost:8080/",
          "height": 468
        },
        "id": "WshA2tdodbZy",
        "outputId": "3bc8a4d2-0618-439b-a35d-e589f89f867e"
      },
      "execution_count": 10,
      "outputs": [
        {
          "output_type": "display_data",
          "data": {
            "text/plain": [
              "<Figure size 600x500 with 2 Axes>"
            ],
            "image/png": "[encoded data removed]"
          },
          "metadata": {}
        }
      ]
    },
    {
      "cell_type": "code",
      "source": [
        "issues = {\n",
        "    \"Missing Values\": int(df.isnull().sum().sum()),\n",
        "    \"Negative or Zero Sales\": int((df['Total'] <= 0).sum()) if \"Total\" in df.columns else 0,\n",
        "    \"Outliers in Sales (>99th percentile)\": int((df['Total'] > df['Total'].quantile(0.99)).sum()) if \"Total\" in df.columns else 0\n",
        "}\n",
        "print(\"\\nData Issues Found:\")\n",
        "for k,v in issues.items():\n",
        "    print(\"-\", k, \":\", v)"
      ],
      "metadata": {
        "colab": {
          "base_uri": "https://localhost:8080/"
        },
        "id": "VkP9vKrUdjf9",
        "outputId": "b3366232-de44-45e3-a937-3a0aa711f93c"
      },
      "execution_count": 9,
      "outputs": [
        {
          "output_type": "stream",
          "name": "stdout",
          "text": [
            "\n",
            "Data Issues Found:\n",
            "- Missing Values : 11\n",
            "- Negative or Zero Sales : 0\n",
            "- Outliers in Sales (>99th percentile) : 0\n"
          ]
        }
      ]
    }
  ]
}